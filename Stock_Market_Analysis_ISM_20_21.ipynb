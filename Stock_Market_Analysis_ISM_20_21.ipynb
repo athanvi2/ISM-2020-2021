{
  "nbformat": 4,
  "nbformat_minor": 0,
  "metadata": {
    "colab": {
      "name": "Stock Market Analysis - ISM 20/21.ipynb",
      "provenance": [],
      "include_colab_link": true
    },
    "kernelspec": {
      "name": "python3",
      "display_name": "Python 3"
    }
  },
  "cells": [
    {
      "cell_type": "markdown",
      "metadata": {
        "id": "view-in-github",
        "colab_type": "text"
      },
      "source": [
        "<a href=\"https://colab.research.google.com/github/athanvi2/ISM-2020-2021/blob/main/Stock_Market_Analysis_ISM_20_21.ipynb\" target=\"_parent\"><img src=\"https://colab.research.google.com/assets/colab-badge.svg\" alt=\"Open In Colab\"/></a>"
      ]
    },
    {
      "cell_type": "markdown",
      "metadata": {
        "id": "g29I8B2xoOgt"
      },
      "source": [
        "# Import Statements"
      ]
    },
    {
      "cell_type": "code",
      "metadata": {
        "id": "A6Y7gV0z11qt"
      },
      "source": [
        "import pandas_datareader as web\n",
        "import datetime as dt\n",
        "import matplotlib.pyplot as plt\n",
        "import numpy as np\n",
        "import pandas as pd\n",
        "\n",
        "from sklearn.preprocessing import MinMaxScaler\n",
        "from tensorflow.keras.models import Sequential\n",
        "from tensorflow.keras.layers import Dense, Dropout, LSTM"
      ],
      "execution_count": null,
      "outputs": []
    },
    {
      "cell_type": "markdown",
      "metadata": {
        "id": "hUorjSq_ob6K"
      },
      "source": [
        "# Loading Company Data"
      ]
    },
    {
      "cell_type": "code",
      "metadata": {
        "colab": {
          "base_uri": "https://localhost:8080/",
          "height": 450
        },
        "id": "1cLn2ihkTNv7",
        "outputId": "2638a032-ed17-403a-9de3-6954263d2d9f"
      },
      "source": [
        "# Load Data/Company Name\n",
        "company = 'FB' #Change ticker here\n",
        "\n",
        "#The range of dates\n",
        "start = dt.datetime(2019,1,1)\n",
        "end = dt.datetime(2021,1,1)\n",
        "\n",
        "data = web.DataReader(company, 'yahoo', start, end)\n",
        "\n",
        "data"
      ],
      "execution_count": null,
      "outputs": [
        {
          "output_type": "execute_result",
          "data": {
            "text/html": [
              "<div>\n",
              "<style scoped>\n",
              "    .dataframe tbody tr th:only-of-type {\n",
              "        vertical-align: middle;\n",
              "    }\n",
              "\n",
              "    .dataframe tbody tr th {\n",
              "        vertical-align: top;\n",
              "    }\n",
              "\n",
              "    .dataframe thead th {\n",
              "        text-align: right;\n",
              "    }\n",
              "</style>\n",
              "<table border=\"1\" class=\"dataframe\">\n",
              "  <thead>\n",
              "    <tr style=\"text-align: right;\">\n",
              "      <th></th>\n",
              "      <th>High</th>\n",
              "      <th>Low</th>\n",
              "      <th>Open</th>\n",
              "      <th>Close</th>\n",
              "      <th>Volume</th>\n",
              "      <th>Adj Close</th>\n",
              "    </tr>\n",
              "    <tr>\n",
              "      <th>Date</th>\n",
              "      <th></th>\n",
              "      <th></th>\n",
              "      <th></th>\n",
              "      <th></th>\n",
              "      <th></th>\n",
              "      <th></th>\n",
              "    </tr>\n",
              "  </thead>\n",
              "  <tbody>\n",
              "    <tr>\n",
              "      <th>2019-01-02</th>\n",
              "      <td>137.509995</td>\n",
              "      <td>128.559998</td>\n",
              "      <td>128.990005</td>\n",
              "      <td>135.679993</td>\n",
              "      <td>28146200</td>\n",
              "      <td>135.679993</td>\n",
              "    </tr>\n",
              "    <tr>\n",
              "      <th>2019-01-03</th>\n",
              "      <td>137.169998</td>\n",
              "      <td>131.119995</td>\n",
              "      <td>134.690002</td>\n",
              "      <td>131.740005</td>\n",
              "      <td>22717900</td>\n",
              "      <td>131.740005</td>\n",
              "    </tr>\n",
              "    <tr>\n",
              "      <th>2019-01-04</th>\n",
              "      <td>138.000000</td>\n",
              "      <td>133.750000</td>\n",
              "      <td>134.009995</td>\n",
              "      <td>137.949997</td>\n",
              "      <td>29002100</td>\n",
              "      <td>137.949997</td>\n",
              "    </tr>\n",
              "    <tr>\n",
              "      <th>2019-01-07</th>\n",
              "      <td>138.869995</td>\n",
              "      <td>135.910004</td>\n",
              "      <td>137.559998</td>\n",
              "      <td>138.050003</td>\n",
              "      <td>20089300</td>\n",
              "      <td>138.050003</td>\n",
              "    </tr>\n",
              "    <tr>\n",
              "      <th>2019-01-08</th>\n",
              "      <td>143.139999</td>\n",
              "      <td>139.539993</td>\n",
              "      <td>139.889999</td>\n",
              "      <td>142.529999</td>\n",
              "      <td>26263800</td>\n",
              "      <td>142.529999</td>\n",
              "    </tr>\n",
              "    <tr>\n",
              "      <th>...</th>\n",
              "      <td>...</td>\n",
              "      <td>...</td>\n",
              "      <td>...</td>\n",
              "      <td>...</td>\n",
              "      <td>...</td>\n",
              "      <td>...</td>\n",
              "    </tr>\n",
              "    <tr>\n",
              "      <th>2020-12-24</th>\n",
              "      <td>270.399994</td>\n",
              "      <td>266.200012</td>\n",
              "      <td>268.880005</td>\n",
              "      <td>267.399994</td>\n",
              "      <td>6702000</td>\n",
              "      <td>267.399994</td>\n",
              "    </tr>\n",
              "    <tr>\n",
              "      <th>2020-12-28</th>\n",
              "      <td>277.299988</td>\n",
              "      <td>265.660004</td>\n",
              "      <td>268.739990</td>\n",
              "      <td>277.000000</td>\n",
              "      <td>23299700</td>\n",
              "      <td>277.000000</td>\n",
              "    </tr>\n",
              "    <tr>\n",
              "      <th>2020-12-29</th>\n",
              "      <td>280.510010</td>\n",
              "      <td>276.279999</td>\n",
              "      <td>276.950012</td>\n",
              "      <td>276.779999</td>\n",
              "      <td>16383000</td>\n",
              "      <td>276.779999</td>\n",
              "    </tr>\n",
              "    <tr>\n",
              "      <th>2020-12-30</th>\n",
              "      <td>278.079987</td>\n",
              "      <td>271.709991</td>\n",
              "      <td>277.950012</td>\n",
              "      <td>271.869995</td>\n",
              "      <td>11803800</td>\n",
              "      <td>271.869995</td>\n",
              "    </tr>\n",
              "    <tr>\n",
              "      <th>2020-12-31</th>\n",
              "      <td>277.089996</td>\n",
              "      <td>269.809998</td>\n",
              "      <td>272.000000</td>\n",
              "      <td>273.160004</td>\n",
              "      <td>12900400</td>\n",
              "      <td>273.160004</td>\n",
              "    </tr>\n",
              "  </tbody>\n",
              "</table>\n",
              "<p>505 rows × 6 columns</p>\n",
              "</div>"
            ],
            "text/plain": [
              "                  High         Low  ...    Volume   Adj Close\n",
              "Date                                ...                      \n",
              "2019-01-02  137.509995  128.559998  ...  28146200  135.679993\n",
              "2019-01-03  137.169998  131.119995  ...  22717900  131.740005\n",
              "2019-01-04  138.000000  133.750000  ...  29002100  137.949997\n",
              "2019-01-07  138.869995  135.910004  ...  20089300  138.050003\n",
              "2019-01-08  143.139999  139.539993  ...  26263800  142.529999\n",
              "...                ...         ...  ...       ...         ...\n",
              "2020-12-24  270.399994  266.200012  ...   6702000  267.399994\n",
              "2020-12-28  277.299988  265.660004  ...  23299700  277.000000\n",
              "2020-12-29  280.510010  276.279999  ...  16383000  276.779999\n",
              "2020-12-30  278.079987  271.709991  ...  11803800  271.869995\n",
              "2020-12-31  277.089996  269.809998  ...  12900400  273.160004\n",
              "\n",
              "[505 rows x 6 columns]"
            ]
          },
          "metadata": {
            "tags": []
          },
          "execution_count": 2
        }
      ]
    },
    {
      "cell_type": "code",
      "metadata": {
        "colab": {
          "base_uri": "https://localhost:8080/",
          "height": 293
        },
        "id": "xx-4Y5NuTQ99",
        "outputId": "c9b273a9-2213-4190-a45b-c8d9f0576385"
      },
      "source": [
        "#Analysis using matplotlib (graphing)\n",
        "data['Open'].plot(label = company + 'Open price')\n",
        "data['Close'].plot(label = company + 'Close price')\n",
        "data['High'].plot(label = company + 'High price')\n",
        "data['Low'].plot(label = company + 'Low price')\n",
        "plt.legend()\n",
        "plt.title(company + ' Stock Prices')\n",
        "plt.ylabel('Stock Price')\n",
        "plt.show()"
      ],
      "execution_count": null,
      "outputs": [
        {
          "output_type": "display_data",
          "data": {
            "image/png": "[encoded data removed]",
            "text/plain": [
              "<Figure size 432x288 with 1 Axes>"
            ]
          },
          "metadata": {
            "tags": [],
            "needs_background": "light"
          }
        }
      ]
    },
    {
      "cell_type": "code",
      "metadata": {
        "id": "5HjkUX0KT15E"
      },
      "source": [
        "# Prepare Data for Model\n",
        "scaler = MinMaxScaler(feature_range=(0,1))\n",
        "scaled_data = scaler.fit_transform(data['Close'].values.reshape(-1,1))\n",
        "\n",
        "prediction_days = 60 #How many days the predicitive model will be based on#\n",
        "\n",
        "x_train = []\n",
        "y_train = []\n",
        "\n",
        "for x in range(prediction_days, len(scaled_data)):\n",
        "  x_train.append(scaled_data[x - prediction_days:x, 0])\n",
        "  y_train.append(scaled_data[x,0])\n",
        "\n",
        "x_train = np.array(x_train)\n",
        "y_train = np.array(y_train)\n",
        "x_train = np.reshape(x_train, (x_train.shape[0], x_train.shape[1], 1))\n",
        "\n",
        "\n"
      ],
      "execution_count": null,
      "outputs": []
    },
    {
      "cell_type": "code",
      "metadata": {
        "id": "kX-kH4-4yLjk"
      },
      "source": [
        ""
      ],
      "execution_count": null,
      "outputs": []
    },
    {
      "cell_type": "code",
      "metadata": {
        "id": "5m0FVqZevSyM",
        "colab": {
          "base_uri": "https://localhost:8080/"
        },
        "outputId": "567bd8ec-0a68-4f13-980d-80b87d922054"
      },
      "source": [
        "#Build the Model\n",
        "model = Sequential()\n",
        "\n",
        "#Learn LSTM (Long Short Term Memory)\n",
        "model.add(LSTM(units = 50, return_sequences=True, input_shape=(x_train.shape[1], 1))) #Input (1st) Layer\n",
        "model.add(Dropout(0.2))\n",
        "model.add(LSTM(units = 50, return_sequences=True)) #Middle Layer\n",
        "model.add(Dropout(0.2))\n",
        "model.add(LSTM(units = 50)) #Final Layer\n",
        "model.add(Dropout(0.2))\n",
        "model.add(Dense(units=1)) #Prediction of the next closing price\n",
        "\n",
        "model.compile(optimizer = 'adam', loss = 'mean_squared_error') #math concepts for loss function and optimization\n",
        "model.fit(x_train, y_train, epochs=25, batch_size=32)\n",
        "\n",
        "\n"
      ],
      "execution_count": null,
      "outputs": [
        {
          "output_type": "stream",
          "text": [
            "Epoch 1/25\n",
            "13/13 [==============================] - 6s 116ms/step - loss: 0.1738\n",
            "Epoch 2/25\n",
            "13/13 [==============================] - 1s 111ms/step - loss: 0.0236\n",
            "Epoch 3/25\n",
            "13/13 [==============================] - 2s 115ms/step - loss: 0.0140\n",
            "Epoch 4/25\n",
            "13/13 [==============================] - 2s 117ms/step - loss: 0.0101\n",
            "Epoch 5/25\n",
            "13/13 [==============================] - 2s 117ms/step - loss: 0.0093\n",
            "Epoch 6/25\n",
            "13/13 [==============================] - 2s 118ms/step - loss: 0.0095\n",
            "Epoch 7/25\n",
            "13/13 [==============================] - 1s 114ms/step - loss: 0.0087\n",
            "Epoch 8/25\n",
            "13/13 [==============================] - 2s 117ms/step - loss: 0.0093\n",
            "Epoch 9/25\n",
            "13/13 [==============================] - 2s 115ms/step - loss: 0.0083\n",
            "Epoch 10/25\n",
            "13/13 [==============================] - 2s 116ms/step - loss: 0.0072\n",
            "Epoch 11/25\n",
            "13/13 [==============================] - 2s 118ms/step - loss: 0.0074\n",
            "Epoch 12/25\n",
            "13/13 [==============================] - 1s 115ms/step - loss: 0.0071\n",
            "Epoch 13/25\n",
            "13/13 [==============================] - 2s 118ms/step - loss: 0.0070\n",
            "Epoch 14/25\n",
            "13/13 [==============================] - 2s 120ms/step - loss: 0.0065\n",
            "Epoch 15/25\n",
            "13/13 [==============================] - 2s 119ms/step - loss: 0.0074\n",
            "Epoch 16/25\n",
            "13/13 [==============================] - 2s 125ms/step - loss: 0.0072\n",
            "Epoch 17/25\n",
            "13/13 [==============================] - 2s 119ms/step - loss: 0.0074\n",
            "Epoch 18/25\n",
            "13/13 [==============================] - 2s 119ms/step - loss: 0.0063\n",
            "Epoch 19/25\n",
            "13/13 [==============================] - 2s 120ms/step - loss: 0.0070\n",
            "Epoch 20/25\n",
            "13/13 [==============================] - 2s 120ms/step - loss: 0.0062\n",
            "Epoch 21/25\n",
            "13/13 [==============================] - 2s 119ms/step - loss: 0.0060\n",
            "Epoch 22/25\n",
            "13/13 [==============================] - 2s 121ms/step - loss: 0.0058\n",
            "Epoch 23/25\n",
            "13/13 [==============================] - 2s 119ms/step - loss: 0.0058\n",
            "Epoch 24/25\n",
            "13/13 [==============================] - 2s 120ms/step - loss: 0.0083\n",
            "Epoch 25/25\n",
            "13/13 [==============================] - 2s 121ms/step - loss: 0.0064\n"
          ],
          "name": "stdout"
        },
        {
          "output_type": "execute_result",
          "data": {
            "text/plain": [
              "<tensorflow.python.keras.callbacks.History at 0x7fe61bd5fa10>"
            ]
          },
          "metadata": {
            "tags": []
          },
          "execution_count": 5
        }
      ]
    },
    {
      "cell_type": "markdown",
      "metadata": {
        "id": "D3JzLWCFG14t"
      },
      "source": [
        "TEST THE MODEL ACCURACY ON EXISTING DATA"
      ]
    },
    {
      "cell_type": "code",
      "metadata": {
        "id": "3uZTCc2SG540",
        "colab": {
          "base_uri": "https://localhost:8080/",
          "height": 312
        },
        "outputId": "57371115-bb3b-4e1c-9f7b-44a6ad262998"
      },
      "source": [
        "test_start = dt.datetime(2019,1,1)\n",
        "test_end = dt.datetime.now()\n",
        "\n",
        "test_data = web.DataReader(company, 'yahoo', test_start, test_end)\n",
        "actual_prices = test_data['Close'].values\n",
        "\n",
        "total_dataset = pd.concat((data['Close'], test_data['Close']), axis = 0)\n",
        "\n",
        "model_inputs = total_dataset[len(total_dataset) - len(test_data) - prediction_days:].values\n",
        "model_inputs = model_inputs.reshape(-1,1)\n",
        "model_inputs = scaler.transform(model_inputs)\n",
        "\n",
        "\n",
        "#Make Predictions on test data\n",
        "\n",
        "x_test = []\n",
        "\n",
        "for x in range(prediction_days, len(model_inputs)):\n",
        "  x_test.append(model_inputs[x-prediction_days:x, 0])\n",
        "\n",
        "x_test = np.array(x_test)\n",
        "x_test = np.reshape(x_test, (x_test.shape[0], x_test.shape[1],1))\n",
        "\n",
        "predicted_prices = model.predict(x_test)\n",
        "predicted_prices = scaler.inverse_transform(predicted_prices)\n",
        "\n",
        "#PLOT THE TEST PREDICTIONS\n",
        "plt.plot(actual_prices, color=\"green\", label = f\"Actual {company} Price\")\n",
        "plt.plot(predicted_prices, color = \"blue\", label = f\"Predicted {company} Price\")\n",
        "plt.title(f\"{company} Share Price\")\n",
        "plt.xlabel('Time')\n",
        "plt.ylabel(f'{company} Share Price')\n",
        "plt.legend()\n"
      ],
      "execution_count": null,
      "outputs": [
        {
          "output_type": "execute_result",
          "data": {
            "text/plain": [
              "<matplotlib.legend.Legend at 0x7fe618e90cd0>"
            ]
          },
          "metadata": {
            "tags": []
          },
          "execution_count": 6
        },
        {
          "output_type": "display_data",
          "data": {
            "image/png": "[encoded data removed]",
            "text/plain": [
              "<Figure size 432x288 with 1 Axes>"
            ]
          },
          "metadata": {
            "tags": [],
            "needs_background": "light"
          }
        }
      ]
    },
    {
      "cell_type": "code",
      "metadata": {
        "colab": {
          "base_uri": "https://localhost:8080/"
        },
        "id": "XKwAuCAKSVsZ",
        "outputId": "ef5fd284-9532-4b2d-be33-d425a6935e5d"
      },
      "source": [
        "real_data = [model_inputs[len(model_inputs) + 1  - prediction_days:len(model_inputs+1),0]]\n",
        "real_data = np.array(real_data)\n",
        "real_data = np.reshape(real_data, (real_data.shape[0], real_data.shape[1],1))\n",
        "\n",
        "prediction = model.predict(real_data)\n",
        "prediction = scaler.inverse_transform(prediction)\n",
        "print(f\"Prediction Price: {prediction}\")\n",
        "\n",
        "# Load Data/Company Name\n",
        "company = 'FB' #Change Ticker here\n",
        "\n",
        "#The range of dates\n",
        "start = dt.datetime(2021,5,12)\n",
        "end = dt.datetime(2021,5,12)\n",
        "\n",
        "dataToday = web.DataReader(company, 'yahoo', start, end)\n",
        "\n",
        "data\n",
        "print()\n",
        "print(f\"Actual Price: {dataToday['Close']}\")"
      ],
      "execution_count": null,
      "outputs": [
        {
          "output_type": "stream",
          "text": [
            "Prediction Price: [[308.7388]]\n",
            "\n",
            "Actual Price: Date\n",
            "2021-05-12    302.549988\n",
            "Name: Close, dtype: float64\n"
          ],
          "name": "stdout"
        }
      ]
    }
  ]
}